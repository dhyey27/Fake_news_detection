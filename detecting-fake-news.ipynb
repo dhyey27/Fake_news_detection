{
 "cells": [
  {
   "cell_type": "markdown",
   "id": "numerical-stock",
   "metadata": {
    "papermill": {
     "duration": 0.012247,
     "end_time": "2022-01-10T13:43:08.896582",
     "exception": false,
     "start_time": "2022-01-10T13:43:08.884335",
     "status": "completed"
    },
    "tags": []
   },
   "source": [
    "## Make necessary imports "
   ]
  },
  {
   "cell_type": "code",
   "execution_count": 17,
   "id": "brilliant-intranet",
   "metadata": {
    "_cell_guid": "b1076dfc-b9ad-4769-8c92-a6c4dae69d19",
    "_uuid": "8f2839f25d086af736a60e9eeb907d3b93b6e0e5",
    "execution": {
     "iopub.execute_input": "2022-01-10T13:43:08.923020Z",
     "iopub.status.busy": "2022-01-10T13:43:08.921914Z",
     "iopub.status.idle": "2022-01-10T13:43:10.027230Z",
     "shell.execute_reply": "2022-01-10T13:43:10.026407Z",
     "shell.execute_reply.started": "2021-07-05T06:17:37.389667Z"
    },
    "papermill": {
     "duration": 1.119481,
     "end_time": "2022-01-10T13:43:10.027401",
     "exception": false,
     "start_time": "2022-01-10T13:43:08.907920",
     "status": "completed"
    },
    "tags": []
   },
   "outputs": [],
   "source": [
    "import numpy as np\n",
    "import pandas as pd\n",
    "import itertools\n",
    "from sklearn.model_selection import train_test_split\n",
    "from sklearn.feature_extraction.text import TfidfVectorizer\n",
    "from sklearn.linear_model import PassiveAggressiveClassifier\n",
    "from sklearn.metrics import accuracy_score, confusion_matrix"
   ]
  },
  {
   "cell_type": "markdown",
   "id": "binding-joint",
   "metadata": {
    "papermill": {
     "duration": 0.011109,
     "end_time": "2022-01-10T13:43:10.049835",
     "exception": false,
     "start_time": "2022-01-10T13:43:10.038726",
     "status": "completed"
    },
    "tags": []
   },
   "source": [
    "## Now, let’s read the data into a DataFrame, and get the shape of the data and the first 5 records."
   ]
  },
  {
   "cell_type": "code",
   "execution_count": 18,
   "id": "nasty-payment",
   "metadata": {
    "execution": {
     "iopub.execute_input": "2022-01-10T13:43:10.078980Z",
     "iopub.status.busy": "2022-01-10T13:43:10.078096Z",
     "iopub.status.idle": "2022-01-10T13:43:11.099726Z",
     "shell.execute_reply": "2022-01-10T13:43:11.100237Z",
     "shell.execute_reply.started": "2021-07-05T06:17:38.664973Z"
    },
    "papermill": {
     "duration": 1.038397,
     "end_time": "2022-01-10T13:43:11.100409",
     "exception": false,
     "start_time": "2022-01-10T13:43:10.062012",
     "status": "completed"
    },
    "tags": []
   },
   "outputs": [
    {
     "data": {
      "text/html": [
       "<div>\n",
       "<style scoped>\n",
       "    .dataframe tbody tr th:only-of-type {\n",
       "        vertical-align: middle;\n",
       "    }\n",
       "\n",
       "    .dataframe tbody tr th {\n",
       "        vertical-align: top;\n",
       "    }\n",
       "\n",
       "    .dataframe thead th {\n",
       "        text-align: right;\n",
       "    }\n",
       "</style>\n",
       "<table border=\"1\" class=\"dataframe\">\n",
       "  <thead>\n",
       "    <tr style=\"text-align: right;\">\n",
       "      <th></th>\n",
       "      <th>Unnamed: 0</th>\n",
       "      <th>title</th>\n",
       "      <th>text</th>\n",
       "      <th>label</th>\n",
       "    </tr>\n",
       "  </thead>\n",
       "  <tbody>\n",
       "    <tr>\n",
       "      <th>0</th>\n",
       "      <td>8476</td>\n",
       "      <td>You Can Smell Hillary’s Fear</td>\n",
       "      <td>Daniel Greenfield, a Shillman Journalism Fello...</td>\n",
       "      <td>FAKE</td>\n",
       "    </tr>\n",
       "    <tr>\n",
       "      <th>1</th>\n",
       "      <td>10294</td>\n",
       "      <td>Watch The Exact Moment Paul Ryan Committed Pol...</td>\n",
       "      <td>Google Pinterest Digg Linkedin Reddit Stumbleu...</td>\n",
       "      <td>FAKE</td>\n",
       "    </tr>\n",
       "    <tr>\n",
       "      <th>2</th>\n",
       "      <td>3608</td>\n",
       "      <td>Kerry to go to Paris in gesture of sympathy</td>\n",
       "      <td>U.S. Secretary of State John F. Kerry said Mon...</td>\n",
       "      <td>REAL</td>\n",
       "    </tr>\n",
       "    <tr>\n",
       "      <th>3</th>\n",
       "      <td>10142</td>\n",
       "      <td>Bernie supporters on Twitter erupt in anger ag...</td>\n",
       "      <td>— Kaydee King (@KaydeeKing) November 9, 2016 T...</td>\n",
       "      <td>FAKE</td>\n",
       "    </tr>\n",
       "    <tr>\n",
       "      <th>4</th>\n",
       "      <td>875</td>\n",
       "      <td>The Battle of New York: Why This Primary Matters</td>\n",
       "      <td>It's primary day in New York and front-runners...</td>\n",
       "      <td>REAL</td>\n",
       "    </tr>\n",
       "  </tbody>\n",
       "</table>\n",
       "</div>"
      ],
      "text/plain": [
       "   Unnamed: 0                                              title   \n",
       "0        8476                       You Can Smell Hillary’s Fear  \\\n",
       "1       10294  Watch The Exact Moment Paul Ryan Committed Pol...   \n",
       "2        3608        Kerry to go to Paris in gesture of sympathy   \n",
       "3       10142  Bernie supporters on Twitter erupt in anger ag...   \n",
       "4         875   The Battle of New York: Why This Primary Matters   \n",
       "\n",
       "                                                text label  \n",
       "0  Daniel Greenfield, a Shillman Journalism Fello...  FAKE  \n",
       "1  Google Pinterest Digg Linkedin Reddit Stumbleu...  FAKE  \n",
       "2  U.S. Secretary of State John F. Kerry said Mon...  REAL  \n",
       "3  — Kaydee King (@KaydeeKing) November 9, 2016 T...  FAKE  \n",
       "4  It's primary day in New York and front-runners...  REAL  "
      ]
     },
     "execution_count": 18,
     "metadata": {},
     "output_type": "execute_result"
    }
   ],
   "source": [
    "#Read the data\n",
    "df=pd.read_csv('./fake_or_real_news.csv')\n",
    "\n",
    "#Get shape and head\n",
    "df.shape\n",
    "df.head()"
   ]
  },
  {
   "cell_type": "markdown",
   "id": "younger-heritage",
   "metadata": {
    "papermill": {
     "duration": 0.011395,
     "end_time": "2022-01-10T13:43:11.124487",
     "exception": false,
     "start_time": "2022-01-10T13:43:11.113092",
     "status": "completed"
    },
    "tags": []
   },
   "source": [
    "## And get the labels from the DataFrame"
   ]
  },
  {
   "cell_type": "code",
   "execution_count": 12,
   "id": "knowing-tender",
   "metadata": {
    "execution": {
     "iopub.execute_input": "2022-01-10T13:43:11.156953Z",
     "iopub.status.busy": "2022-01-10T13:43:11.155981Z",
     "iopub.status.idle": "2022-01-10T13:43:11.160024Z",
     "shell.execute_reply": "2022-01-10T13:43:11.159495Z",
     "shell.execute_reply.started": "2021-07-05T06:17:39.627298Z"
    },
    "papermill": {
     "duration": 0.023942,
     "end_time": "2022-01-10T13:43:11.160196",
     "exception": false,
     "start_time": "2022-01-10T13:43:11.136254",
     "status": "completed"
    },
    "tags": []
   },
   "outputs": [
    {
     "data": {
      "text/plain": [
       "0    FAKE\n",
       "1    FAKE\n",
       "2    REAL\n",
       "3    FAKE\n",
       "4    REAL\n",
       "Name: label, dtype: object"
      ]
     },
     "execution_count": 12,
     "metadata": {},
     "output_type": "execute_result"
    }
   ],
   "source": [
    "# Get the labels\n",
    "labels=df.label\n",
    "labels.head()"
   ]
  },
  {
   "cell_type": "markdown",
   "id": "stunning-crossing",
   "metadata": {
    "papermill": {
     "duration": 0.011916,
     "end_time": "2022-01-10T13:43:11.184412",
     "exception": false,
     "start_time": "2022-01-10T13:43:11.172496",
     "status": "completed"
    },
    "tags": []
   },
   "source": [
    "### Split the dataset into training and testing sets."
   ]
  },
  {
   "cell_type": "code",
   "execution_count": 13,
   "id": "economic-techno",
   "metadata": {
    "execution": {
     "iopub.execute_input": "2022-01-10T13:43:11.215926Z",
     "iopub.status.busy": "2022-01-10T13:43:11.214862Z",
     "iopub.status.idle": "2022-01-10T13:43:11.220178Z",
     "shell.execute_reply": "2022-01-10T13:43:11.219516Z",
     "shell.execute_reply.started": "2021-07-05T06:17:39.638898Z"
    },
    "papermill": {
     "duration": 0.023895,
     "end_time": "2022-01-10T13:43:11.220342",
     "exception": false,
     "start_time": "2022-01-10T13:43:11.196447",
     "status": "completed"
    },
    "tags": []
   },
   "outputs": [],
   "source": [
    "#Split the dataset\n",
    "x_train,x_test,y_train,y_test=train_test_split(df['text'], labels, test_size=0.2, random_state=7)"
   ]
  },
  {
   "cell_type": "markdown",
   "id": "extended-theater",
   "metadata": {
    "papermill": {
     "duration": 0.011644,
     "end_time": "2022-01-10T13:43:11.244105",
     "exception": false,
     "start_time": "2022-01-10T13:43:11.232461",
     "status": "completed"
    },
    "tags": []
   },
   "source": [
    "### Now, fit and transform the vectorizer on the train set, and transform the vectorizer on the test set."
   ]
  },
  {
   "cell_type": "code",
   "execution_count": 14,
   "id": "given-samoa",
   "metadata": {
    "execution": {
     "iopub.execute_input": "2022-01-10T13:43:11.297764Z",
     "iopub.status.busy": "2022-01-10T13:43:11.292328Z",
     "iopub.status.idle": "2022-01-10T13:43:16.497913Z",
     "shell.execute_reply": "2022-01-10T13:43:16.496867Z",
     "shell.execute_reply.started": "2021-07-05T06:17:39.662308Z"
    },
    "papermill": {
     "duration": 5.242107,
     "end_time": "2022-01-10T13:43:16.498100",
     "exception": false,
     "start_time": "2022-01-10T13:43:11.255993",
     "status": "completed"
    },
    "tags": []
   },
   "outputs": [],
   "source": [
    "#Initialize a TfidfVectorizer\n",
    "tfidf_vectorizer = TfidfVectorizer(stop_words='english', max_df =0.9)\n",
    "# fit and transform train set, transform test set\n",
    "tfidf_train = tfidf_vectorizer.fit_transform(x_train)\n",
    "tfidf_test = tfidf_vectorizer.transform(x_test)"
   ]
  },
  {
   "cell_type": "markdown",
   "id": "funky-better",
   "metadata": {
    "papermill": {
     "duration": 0.012084,
     "end_time": "2022-01-10T13:43:16.522301",
     "exception": false,
     "start_time": "2022-01-10T13:43:16.510217",
     "status": "completed"
    },
    "tags": []
   },
   "source": [
    "#### Then, we’ll predict on the test set from the TfidfVectorizer and calculate the accuracy with accuracy_score() from sklearn.metrics."
   ]
  },
  {
   "cell_type": "code",
   "execution_count": 15,
   "id": "friendly-butler",
   "metadata": {
    "execution": {
     "iopub.execute_input": "2022-01-10T13:43:16.549098Z",
     "iopub.status.busy": "2022-01-10T13:43:16.548450Z",
     "iopub.status.idle": "2022-01-10T13:43:16.694468Z",
     "shell.execute_reply": "2022-01-10T13:43:16.693737Z",
     "shell.execute_reply.started": "2021-07-05T06:17:44.931316Z"
    },
    "papermill": {
     "duration": 0.160449,
     "end_time": "2022-01-10T13:43:16.694655",
     "exception": false,
     "start_time": "2022-01-10T13:43:16.534206",
     "status": "completed"
    },
    "tags": []
   },
   "outputs": [
    {
     "name": "stdout",
     "output_type": "stream",
     "text": [
      "Accuracy: 92.9%\n"
     ]
    }
   ],
   "source": [
    "#Initialize a PassiveAggressiveClassifier\n",
    "pac=PassiveAggressiveClassifier(max_iter=50)\n",
    "pac.fit(tfidf_train,y_train)\n",
    "\n",
    "#Predict on the test set and calculate accuracy\n",
    "y_pred=pac.predict(tfidf_test)\n",
    "score=accuracy_score(y_test,y_pred)\n",
    "print(f'Accuracy: {round(score*100,2)}%')"
   ]
  },
  {
   "cell_type": "markdown",
   "id": "sunrise-cocktail",
   "metadata": {
    "papermill": {
     "duration": 0.011951,
     "end_time": "2022-01-10T13:43:16.719224",
     "exception": false,
     "start_time": "2022-01-10T13:43:16.707273",
     "status": "completed"
    },
    "tags": []
   },
   "source": [
    "We got an accuracy of 92.82% with this model. Finally, let’s print out a confusion matrix to gain insight into the number of false and true negatives and positives."
   ]
  },
  {
   "cell_type": "code",
   "execution_count": 16,
   "id": "greenhouse-county",
   "metadata": {
    "execution": {
     "iopub.execute_input": "2022-01-10T13:43:16.746657Z",
     "iopub.status.busy": "2022-01-10T13:43:16.746049Z",
     "iopub.status.idle": "2022-01-10T13:43:16.757676Z",
     "shell.execute_reply": "2022-01-10T13:43:16.758221Z",
     "shell.execute_reply.started": "2021-07-05T06:17:45.084079Z"
    },
    "papermill": {
     "duration": 0.02692,
     "end_time": "2022-01-10T13:43:16.758393",
     "exception": false,
     "start_time": "2022-01-10T13:43:16.731473",
     "status": "completed"
    },
    "tags": []
   },
   "outputs": [
    {
     "data": {
      "text/plain": [
       "array([[591,  47],\n",
       "       [ 43, 586]], dtype=int64)"
      ]
     },
     "execution_count": 16,
     "metadata": {},
     "output_type": "execute_result"
    }
   ],
   "source": [
    "#Build confusion matrix\n",
    "confusion_matrix(y_test,y_pred, labels=['FAKE','REAL'])"
   ]
  }
 ],
 "metadata": {
  "kernelspec": {
   "display_name": "Python 3 (ipykernel)",
   "language": "python",
   "name": "python3"
  },
  "language_info": {
   "codemirror_mode": {
    "name": "ipython",
    "version": 3
   },
   "file_extension": ".py",
   "mimetype": "text/x-python",
   "name": "python",
   "nbconvert_exporter": "python",
   "pygments_lexer": "ipython3",
   "version": "3.10.10"
  },
  "papermill": {
   "default_parameters": {},
   "duration": 16.794588,
   "end_time": "2022-01-10T13:43:17.530791",
   "environment_variables": {},
   "exception": null,
   "input_path": "__notebook__.ipynb",
   "output_path": "__notebook__.ipynb",
   "parameters": {},
   "start_time": "2022-01-10T13:43:00.736203",
   "version": "2.3.3"
  }
 },
 "nbformat": 4,
 "nbformat_minor": 5
}
